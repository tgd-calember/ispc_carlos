{
 "cells": [
  {
   "cell_type": "code",
   "execution_count": null,
   "metadata": {},
   "outputs": [],
   "source": [
    "# División entera //\n",
    "def div_entera(a, b):\n",
    "    return a // b\n",
    "\n",
    "val01 = int(input(\"Ingrese un numero entero\"))\n",
    "val02 = int(input(\"Ingrese otro numero entero\"))\n",
    "\n",
    "print(div_entera(val01,val02))"
   ]
  }
 ],
 "metadata": {
  "language_info": {
   "name": "python"
  },
  "orig_nbformat": 4
 },
 "nbformat": 4,
 "nbformat_minor": 2
}
